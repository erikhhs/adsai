{
 "cells": [
  {
   "cell_type": "code",
   "execution_count": 2,
   "metadata": {},
   "outputs": [
    {
     "name": "stdout",
     "output_type": "stream",
     "text": [
      "Help on module adsai.functions in adsai:\n",
      "\n",
      "NAME\n",
      "    adsai.functions\n",
      "\n",
      "FUNCTIONS\n",
      "    col_to_list(df, col)\n",
      "    \n",
      "    print_hi()\n",
      "\n",
      "FILE\n",
      "    c:\\users\\ejvdham\\de haagse hogeschool\\bachelor applied datascience_groups - general\\1-voltijd\\onderwijsontwikkeling\\semester 2\\3. programmeren voor data-analyse basis ii\\packages\\adsai\\functions.py\n",
      "\n",
      "\n"
     ]
    }
   ],
   "source": [
    "from adsai import functions\n",
    "help(functions)"
   ]
  },
  {
   "cell_type": "code",
   "execution_count": null,
   "metadata": {},
   "outputs": [],
   "source": [
    "def test_col_to_list():\n",
    "    "
   ]
  },
  {
   "cell_type": "code",
   "execution_count": 4,
   "metadata": {
    "scrolled": true
   },
   "outputs": [
    {
     "name": "stdout",
     "output_type": "stream",
     "text": [
      "Help on function col_to_list in module adsai.functions:\n",
      "\n",
      "col_to_list(df, col)\n",
      "\n"
     ]
    }
   ],
   "source": [
    "functions.col_to_list"
   ]
  },
  {
   "cell_type": "code",
   "execution_count": null,
   "metadata": {},
   "outputs": [],
   "source": []
  }
 ],
 "metadata": {
  "kernelspec": {
   "display_name": "Python 3",
   "language": "python",
   "name": "python3"
  },
  "language_info": {
   "codemirror_mode": {
    "name": "ipython",
    "version": 3
   },
   "file_extension": ".py",
   "mimetype": "text/x-python",
   "name": "python",
   "nbconvert_exporter": "python",
   "pygments_lexer": "ipython3",
   "version": "3.8.5"
  }
 },
 "nbformat": 4,
 "nbformat_minor": 4
}
